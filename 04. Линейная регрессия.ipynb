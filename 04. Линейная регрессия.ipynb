{
 "cells": [
  {
   "cell_type": "markdown",
   "id": "d5b0548f",
   "metadata": {},
   "source": [
    "# Линейная регрессия"
   ]
  },
  {
   "cell_type": "code",
   "execution_count": 9,
   "id": "ce5759c8",
   "metadata": {},
   "outputs": [],
   "source": [
    "# Простая модель линейной регрессии\n",
    "from sklearn.linear_model import LinearRegression\n",
    "import numpy as np"
   ]
  },
  {
   "cell_type": "markdown",
   "id": "3db322e0",
   "metadata": {},
   "source": [
    "$$\n",
    "apple = \\beta\\times n + \\varepsilon\n",
    "$$"
   ]
  },
  {
   "cell_type": "code",
   "execution_count": 10,
   "id": "ae8ad566",
   "metadata": {},
   "outputs": [],
   "source": [
    "# данные\n",
    "apple = np.array([155, 156, 157])\n",
    "n = len(apple)"
   ]
  },
  {
   "cell_type": "code",
   "execution_count": 11,
   "id": "ccdb25c4",
   "metadata": {},
   "outputs": [
    {
     "data": {
      "text/plain": [
       "array([[0],\n",
       "       [1],\n",
       "       [2]])"
      ]
     },
     "execution_count": 11,
     "metadata": {},
     "output_type": "execute_result"
    }
   ],
   "source": [
    "# изменим форму входного массива \n",
    "# преобразуем одномерный масив в двумерный с 1 столбцом и n-строк\n",
    "np.arange(n).reshape((n,1))"
   ]
  },
  {
   "cell_type": "code",
   "execution_count": 14,
   "id": "c767ddf7",
   "metadata": {},
   "outputs": [],
   "source": [
    "# однострочник: создаем и обучаем модель\n",
    "model = LinearRegression().fit(np.arange(n).reshape((n,1)), apple)"
   ]
  },
  {
   "cell_type": "code",
   "execution_count": 16,
   "id": "ada98566",
   "metadata": {},
   "outputs": [
    {
     "data": {
      "text/plain": [
       "array([158., 159.])"
      ]
     },
     "execution_count": 16,
     "metadata": {},
     "output_type": "execute_result"
    }
   ],
   "source": [
    "# прогнозируем значения\n",
    "model.predict([[3],[4]])"
   ]
  }
 ],
 "metadata": {
  "kernelspec": {
   "display_name": "Python 3 (ipykernel)",
   "language": "python",
   "name": "python3"
  },
  "language_info": {
   "codemirror_mode": {
    "name": "ipython",
    "version": 3
   },
   "file_extension": ".py",
   "mimetype": "text/x-python",
   "name": "python",
   "nbconvert_exporter": "python",
   "pygments_lexer": "ipython3",
   "version": "3.9.7"
  }
 },
 "nbformat": 4,
 "nbformat_minor": 5
}
